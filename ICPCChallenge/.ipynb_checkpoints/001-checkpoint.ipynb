{
 "cells": [
  {
   "cell_type": "code",
   "execution_count": 202,
   "metadata": {},
   "outputs": [],
   "source": [
    "import torch\n",
    "import torch.nn as nn\n",
    "import torch.nn.functional as F\n",
    "from torch.autograd import Variable\n",
    "import numpy as np\n",
    "\n",
    "CLASES = 10\n",
    "PREF = 'A'"
   ]
  },
  {
   "cell_type": "code",
   "execution_count": 204,
   "metadata": {},
   "outputs": [],
   "source": [
    "with open(PREF + \"/mnist10_train.txt\", 'r') as fin:\n",
    "    data = [list(map(int, line.split())) for line in fin.readlines()]\n",
    "X = np.array([line[:-1] for line in data])\n",
    "Y = np.array([line[-1] for line in data])"
   ]
  },
  {
   "cell_type": "code",
   "execution_count": 205,
   "metadata": {},
   "outputs": [],
   "source": [
    "class Sum(nn.Module):\n",
    "    def __init__(self, inp, oup):\n",
    "        super(self.__class__, self).__init__()\n",
    "        \n",
    "    \n",
    "    def forward(self, X):\n",
    "        return X.reshape(-1, CLASES, 15).sum(2)"
   ]
  },
  {
   "cell_type": "code",
   "execution_count": 240,
   "metadata": {},
   "outputs": [],
   "source": [
    "def augmentation(batch):\n",
    "    for i in range(batch.shape[0]):\n",
    "        for j in range(2):\n",
    "            val = np.random.randint(0, 50)\n",
    "            batch[i][val] *= -1\n",
    "    return batch"
   ]
  },
  {
   "cell_type": "code",
   "execution_count": 241,
   "metadata": {},
   "outputs": [],
   "source": [
    "def get_batch(X, Y, batch_size=32):\n",
    "    indexes = np.arange(X.shape[0])\n",
    "    np.random.shuffle(indexes)\n",
    "    for i in range(0, X.shape[0], batch_size):\n",
    "        first = i\n",
    "        last = min(X.shape[0], i + batch_size)\n",
    "        yield X[indexes[first:last]], Y[indexes[first:last]]"
   ]
  },
  {
   "cell_type": "code",
   "execution_count": 255,
   "metadata": {},
   "outputs": [],
   "source": [
    "model = nn.Sequential(\n",
    "    nn.Dropout(p=0),\n",
    "    nn.Linear(51, 15 * CLASES, bias=False),\n",
    "    Sum(15 * CLASES, CLASES),\n",
    "    nn.Softmax()\n",
    ")\n",
    "\n",
    "num_epochs = 3 # total amount of full passes over training data\n",
    "batch_size = 50  # number of samples processed in one SGD iteration\n",
    "opt = torch.optim.Adam(model.parameters())"
   ]
  },
  {
   "cell_type": "code",
   "execution_count": 256,
   "metadata": {},
   "outputs": [
    {
     "name": "stdout",
     "output_type": "stream",
     "text": [
      "3113.545412182808\n",
      "3046.0915768146515\n",
      "3038.382202029228\n"
     ]
    }
   ],
   "source": [
    "for epoch in range(num_epochs):\n",
    "    all_loss = 0\n",
    "    for x_batch, y_batch in get_batch(X, Y):\n",
    "        x_batch = Variable(torch.Tensor(x_batch))\n",
    "        y_batch = Variable(torch.LongTensor(y_batch))\n",
    "        res = model.forward(x_batch)\n",
    "        loss = F.cross_entropy(res, y_batch)\n",
    "        loss.backward()\n",
    "        opt.step()\n",
    "        opt.zero_grad()\n",
    "        all_loss += loss.data.numpy()\n",
    "    print(all_loss)"
   ]
  },
  {
   "cell_type": "code",
   "execution_count": 257,
   "metadata": {},
   "outputs": [],
   "source": [
    "values = model.state_dict().get('1.weight').data.numpy()"
   ]
  },
  {
   "cell_type": "code",
   "execution_count": 258,
   "metadata": {},
   "outputs": [],
   "source": [
    "with open(PREF + '/res', 'w') as fout:\n",
    "    for i in range(values.shape[0]):\n",
    "        fout.write(' '.join(list(map(str, values[i]))))\n",
    "        fout.write('\\n')"
   ]
  },
  {
   "cell_type": "code",
   "execution_count": 266,
   "metadata": {},
   "outputs": [],
   "source": [
    "values = []\n",
    "with open(PREF + '/res2', 'r') as fout:\n",
    "    for i in range(15 * CLASES):\n",
    "        line = fout.readline()\n",
    "        values.append(list(map(float, line.split())))\n",
    "values = np.array(values)\n",
    "\n",
    "with open(PREF + '/res.cpp', 'w') as fout:\n",
    "    fout.write(\"#include<iostream>\\n\")\n",
    "    fout.write(\"using namespace std;\\n\")\n",
    "    fout.write(\"int main() {\\n\")\n",
    "    for i in range(values.shape[0]):\n",
    "        fout.write('cout << \"')\n",
    "        fout.write(' '.join(list(map(str, values[i]))))\n",
    "        fout.write('\" << endl;\\n')\n",
    "    fout.write(\"}\\n\")"
   ]
  },
  {
   "cell_type": "code",
   "execution_count": null,
   "metadata": {},
   "outputs": [],
   "source": []
  },
  {
   "cell_type": "code",
   "execution_count": null,
   "metadata": {},
   "outputs": [],
   "source": []
  }
 ],
 "metadata": {
  "kernelspec": {
   "display_name": "Python 3",
   "language": "python",
   "name": "python3"
  },
  "language_info": {
   "codemirror_mode": {
    "name": "ipython",
    "version": 3
   },
   "file_extension": ".py",
   "mimetype": "text/x-python",
   "name": "python",
   "nbconvert_exporter": "python",
   "pygments_lexer": "ipython3",
   "version": "3.7.1"
  }
 },
 "nbformat": 4,
 "nbformat_minor": 2
}
